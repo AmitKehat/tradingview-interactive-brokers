{
 "cells": [
  {
   "cell_type": "code",
   "execution_count": 2,
   "metadata": {},
   "outputs": [
    {
     "data": {
      "text/plain": [
       "'2021-11-03'"
      ]
     },
     "execution_count": 2,
     "metadata": {},
     "output_type": "execute_result"
    }
   ],
   "source": [
    "import datetime\n",
    "str(datetime.datetime.now().date())"
   ]
  },
  {
   "cell_type": "code",
   "execution_count": 4,
   "metadata": {},
   "outputs": [
    {
     "data": {
      "text/plain": [
       "'trades_traching_2021-11-04.csv'"
      ]
     },
     "execution_count": 4,
     "metadata": {},
     "output_type": "execute_result"
    }
   ],
   "source": [
    "path = f\"trades_traching_{datetime.datetime.now().date()}.csv\"\n",
    "path"
   ]
  },
  {
   "cell_type": "code",
   "execution_count": 21,
   "metadata": {},
   "outputs": [
    {
     "name": "stdout",
     "output_type": "stream",
     "text": [
      "                    Datetime Ticker Action Long_Short  Quantity\n",
      "0  2021-11-02 18:48:00+00:00   NVDA    buy       long       137\n",
      "1  2021-11-02 18:18:00+00:00     FB    buy       long       112\n"
     ]
    }
   ],
   "source": [
    "import pandas as pd\n",
    "import datetime\n",
    "import os\n",
    "\n",
    "message_data = {'passphrase': 'somelongstring123', 'time': '2021-11-02T16:00:00Z', 'exchange': 'NASDAQ', 'ticker': 'NVDA', 'bar': {'time': '2021-11-02T16:00:00Z', 'open': 264.68, 'high': 264.68, 'low': 264.68, 'close': 264.68, 'volume': 300}, 'strategy': {'position_size': -136, 'order_action': 'sell', 'order_contracts': 136, 'order_price': 264.68, 'order_id': 'Short', 'market_position': 'short', 'market_position_size': 136, 'prev_market_position': 'flat', 'prev_market_position_size': 0}}\n",
    "\n",
    "if not os.path.isfile(path):\n",
    "    df = pd.DataFrame(columns=['Datetime', 'Ticker', 'Action', 'Long_Short', 'Quantity'])\n",
    "    print(df)\n",
    "    df.to_csv(f'trades_traching_{datetime.datetime.now().date()}.csv', index=[0])\n",
    "\n",
    "df = pd.read_csv(f'trades_traching_{datetime.datetime.now().date()}.csv', index_col=0)\n",
    "print(df)\n",
    "df = df.append({\n",
    "    'Datetime': pd.to_datetime(message_data['time']),\n",
    "    'Ticker': message_data['ticker'],\n",
    "    'Action': message_data['strategy']['order_action'],\n",
    "    'Long_Short': message_data['strategy']['market_position'],\n",
    "    'Quantity': message_data['strategy']['position_size']\n",
    "}, ignore_index=True)\n",
    "df.to_csv(f'trades_traching_{datetime.datetime.now().date()}.csv', index=[0])"
   ]
  },
  {
   "cell_type": "code",
   "execution_count": 19,
   "metadata": {},
   "outputs": [
    {
     "data": {
      "text/html": [
       "<div>\n",
       "<style scoped>\n",
       "    .dataframe tbody tr th:only-of-type {\n",
       "        vertical-align: middle;\n",
       "    }\n",
       "\n",
       "    .dataframe tbody tr th {\n",
       "        vertical-align: top;\n",
       "    }\n",
       "\n",
       "    .dataframe thead th {\n",
       "        text-align: right;\n",
       "    }\n",
       "</style>\n",
       "<table border=\"1\" class=\"dataframe\">\n",
       "  <thead>\n",
       "    <tr style=\"text-align: right;\">\n",
       "      <th></th>\n",
       "      <th>Datetime</th>\n",
       "      <th>Ticker</th>\n",
       "      <th>Action</th>\n",
       "      <th>Long_Short</th>\n",
       "      <th>Quantity</th>\n",
       "    </tr>\n",
       "  </thead>\n",
       "  <tbody>\n",
       "    <tr>\n",
       "      <th>0</th>\n",
       "      <td>2021-11-02 18:48:00+00:00</td>\n",
       "      <td>NVDA</td>\n",
       "      <td>buy</td>\n",
       "      <td>long</td>\n",
       "      <td>137</td>\n",
       "    </tr>\n",
       "  </tbody>\n",
       "</table>\n",
       "</div>"
      ],
      "text/plain": [
       "                   Datetime Ticker Action Long_Short Quantity\n",
       "0 2021-11-02 18:48:00+00:00   NVDA    buy       long      137"
      ]
     },
     "execution_count": 19,
     "metadata": {},
     "output_type": "execute_result"
    }
   ],
   "source": [
    "df"
   ]
  },
  {
   "cell_type": "code",
   "execution_count": null,
   "metadata": {},
   "outputs": [],
   "source": []
  }
 ],
 "metadata": {
  "interpreter": {
   "hash": "27fec08f11403793fa2d80019810864fe7f62fbbcb5b853337d1df8e935b562b"
  },
  "kernelspec": {
   "display_name": "Python 3.8.5 64-bit ('venv': venv)",
   "name": "python3"
  },
  "language_info": {
   "codemirror_mode": {
    "name": "ipython",
    "version": 3
   },
   "file_extension": ".py",
   "mimetype": "text/x-python",
   "name": "python",
   "nbconvert_exporter": "python",
   "pygments_lexer": "ipython3",
   "version": "3.8.5"
  },
  "orig_nbformat": 4
 },
 "nbformat": 4,
 "nbformat_minor": 2
}
